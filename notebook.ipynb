{
 "cells": [
  {
   "cell_type": "markdown",
   "id": "e33eda06-7d7d-445e-8cd0-60b4d4b13afb",
   "metadata": {},
   "source": [
    "# Practical Exam: House sales\n",
    "\n",
    "RealAgents is a real estate company that focuses on selling houses.\n",
    "\n",
    "RealAgents sells a variety of types of house in one metropolitan area.\n",
    "\n",
    "Some houses sell slowly and sometimes require lowering the price in order to find a buyer.\n",
    "\n",
    "In order to stay competitive, RealAgents would like to optimize the listing prices of the houses it is trying to sell.\n",
    "\n",
    "They want to do this by predicting the sale price of a house given its characteristics.\n",
    "\n",
    "If they can predict the sale price in advance, they can decrease the time to sale.\n",
    "\n",
    "\n",
    "## Data\n",
    "\n",
    "The dataset contains records of previous houses sold in the area.\n",
    "\n",
    "| Column Name | Criteria                                                |\n",
    "|-------------|---------------------------------------------------------|\n",
    "| house_id    | Nominal. </br> Unique identifier for houses. </br>Missing values not possible. |\n",
    "| city        | Nominal. </br>The city in which the house is located. One of 'Silvertown', 'Riverford', 'Teasdale' and 'Poppleton'. </br>Replace missing values with \"Unknown\". |\n",
    "| sale_price  | Discrete. </br>The sale price of the house in whole dollars. Values can be any positive number greater than or equal to zero.</br>Remove missing entries. |\n",
    "| sale_date   | Discrete. </br>The date of the last sale of the house. </br>Replace missing values with 2023-01-01. |\n",
    "| months_listed  | Continuous. </br>The number of months the house was listed on the market prior to its last sale, rounded to one decimal place. </br>Replace missing values with mean number of months listed, to one decimal place. |\n",
    "| bedrooms    | Discrete. </br>The number of bedrooms in the house. Any positive values greater than or equal to zero. </br>Replace missing values with the mean number of bedrooms, rounded to the nearest integer. |\n",
    "| house_type   | Ordinal. </br>One of \"Terraced\" (two shared walls), \"Semi-detached\" (one shared wall), or \"Detached\" (no shared walls). </br>Replace missing values with the most common house type. |\n",
    "| area      | Continuous. </br>The area of the house in square meters, rounded to one decimal place. </br>Replace missing values with the mean, to one decimal place. |\n"
   ]
  },
  {
   "cell_type": "markdown",
   "id": "ce597564-6bd3-4f54-830b-d5bac083c04a",
   "metadata": {},
   "source": [
    "# Task 1\n",
    "\n",
    "The team at RealAgents knows that the city that a property is located in makes a difference to the sale price. \n",
    "\n",
    "Unfortuntately they believe that this isn't always recorded in the data. \n",
    "\n",
    "Calculate the number of missing values of the `city`. \n",
    "\n",
    " - You should use the data in the file \"house_sales.csv\". \n",
    "\n",
    " - Your output should be an object `missing_city`, that contains the number of missing values in this column. "
   ]
  },
  {
   "cell_type": "code",
   "execution_count": 355,
   "id": "b2cb73bf-bb81-4664-b3eb-c35f6914a652",
   "metadata": {
    "executionCancelledAt": null,
    "executionTime": 50,
    "lastExecutedAt": 1688646575189,
    "lastScheduledRunId": null,
    "lastSuccessfullyExecutedCode": "# Use this cell to write your code for Task 1"
   },
   "outputs": [],
   "source": [
    "import pandas as pd"
   ]
  },
  {
   "cell_type": "code",
   "execution_count": 356,
   "id": "f7e04d97",
   "metadata": {},
   "outputs": [
    {
     "data": {
      "text/html": [
       "<div>\n",
       "<style scoped>\n",
       "    .dataframe tbody tr th:only-of-type {\n",
       "        vertical-align: middle;\n",
       "    }\n",
       "\n",
       "    .dataframe tbody tr th {\n",
       "        vertical-align: top;\n",
       "    }\n",
       "\n",
       "    .dataframe thead th {\n",
       "        text-align: right;\n",
       "    }\n",
       "</style>\n",
       "<table border=\"1\" class=\"dataframe\">\n",
       "  <thead>\n",
       "    <tr style=\"text-align: right;\">\n",
       "      <th></th>\n",
       "      <th>house_id</th>\n",
       "      <th>city</th>\n",
       "      <th>sale_price</th>\n",
       "      <th>sale_date</th>\n",
       "      <th>months_listed</th>\n",
       "      <th>bedrooms</th>\n",
       "      <th>house_type</th>\n",
       "      <th>area</th>\n",
       "    </tr>\n",
       "  </thead>\n",
       "  <tbody>\n",
       "    <tr>\n",
       "      <th>0</th>\n",
       "      <td>1217792</td>\n",
       "      <td>Silvertown</td>\n",
       "      <td>55943</td>\n",
       "      <td>2021-09-12</td>\n",
       "      <td>5.4</td>\n",
       "      <td>2</td>\n",
       "      <td>Semi-detached</td>\n",
       "      <td>107.8 sq.m.</td>\n",
       "    </tr>\n",
       "    <tr>\n",
       "      <th>1</th>\n",
       "      <td>1900913</td>\n",
       "      <td>Silvertown</td>\n",
       "      <td>384677</td>\n",
       "      <td>2021-01-17</td>\n",
       "      <td>6.3</td>\n",
       "      <td>5</td>\n",
       "      <td>Detached</td>\n",
       "      <td>498.8 sq.m.</td>\n",
       "    </tr>\n",
       "    <tr>\n",
       "      <th>2</th>\n",
       "      <td>1174927</td>\n",
       "      <td>Riverford</td>\n",
       "      <td>281707</td>\n",
       "      <td>2021-11-10</td>\n",
       "      <td>6.9</td>\n",
       "      <td>6</td>\n",
       "      <td>Detached</td>\n",
       "      <td>542.5 sq.m.</td>\n",
       "    </tr>\n",
       "    <tr>\n",
       "      <th>3</th>\n",
       "      <td>1773666</td>\n",
       "      <td>Silvertown</td>\n",
       "      <td>373251</td>\n",
       "      <td>2020-04-13</td>\n",
       "      <td>6.1</td>\n",
       "      <td>6</td>\n",
       "      <td>Det.</td>\n",
       "      <td>528.4 sq.m.</td>\n",
       "    </tr>\n",
       "    <tr>\n",
       "      <th>4</th>\n",
       "      <td>1258487</td>\n",
       "      <td>Silvertown</td>\n",
       "      <td>328885</td>\n",
       "      <td>2020-09-24</td>\n",
       "      <td>8.7</td>\n",
       "      <td>5</td>\n",
       "      <td>Detached</td>\n",
       "      <td>477.1 sq.m.</td>\n",
       "    </tr>\n",
       "  </tbody>\n",
       "</table>\n",
       "</div>"
      ],
      "text/plain": [
       "   house_id        city  sale_price   sale_date  months_listed  bedrooms  \\\n",
       "0   1217792  Silvertown       55943  2021-09-12            5.4         2   \n",
       "1   1900913  Silvertown      384677  2021-01-17            6.3         5   \n",
       "2   1174927   Riverford      281707  2021-11-10            6.9         6   \n",
       "3   1773666  Silvertown      373251  2020-04-13            6.1         6   \n",
       "4   1258487  Silvertown      328885  2020-09-24            8.7         5   \n",
       "\n",
       "      house_type         area  \n",
       "0  Semi-detached  107.8 sq.m.  \n",
       "1       Detached  498.8 sq.m.  \n",
       "2       Detached  542.5 sq.m.  \n",
       "3           Det.  528.4 sq.m.  \n",
       "4       Detached  477.1 sq.m.  "
      ]
     },
     "execution_count": 356,
     "metadata": {},
     "output_type": "execute_result"
    }
   ],
   "source": [
    "house_sales = pd.read_csv(r\"house_sales.csv\")\n",
    "house_sales.head()"
   ]
  },
  {
   "cell_type": "code",
   "execution_count": 357,
   "metadata": {},
   "outputs": [
    {
     "data": {
      "text/plain": [
       "city\n",
       "Silvertown    517\n",
       "Teasdale      366\n",
       "Poppleton     362\n",
       "Riverford     182\n",
       "--             73\n",
       "Name: count, dtype: int64"
      ]
     },
     "execution_count": 357,
     "metadata": {},
     "output_type": "execute_result"
    }
   ],
   "source": [
    "house_sales['city'].value_counts(dropna=False)"
   ]
  },
  {
   "cell_type": "code",
   "execution_count": 358,
   "id": "f053eaa6",
   "metadata": {},
   "outputs": [],
   "source": [
    "# so the number missing values is the same as the number of '--'\n",
    "missing_city = 73"
   ]
  },
  {
   "cell_type": "markdown",
   "id": "5045c039-b353-46ba-87b9-af63aaa4abf3",
   "metadata": {},
   "source": [
    "# Task 2 \n",
    "\n",
    "Before you fit any models, you will need to make sure the data is clean. \n",
    "\n",
    "The table below shows what the data should look like. \n",
    "\n",
    "Create a cleaned version of the dataframe. \n",
    "\n",
    " - You should start with the data in the file \"house_sales.csv\". \n",
    "\n",
    " - Your output should be a dataframe named `clean_data`. \n",
    "\n",
    " - All column names and values should match the table below.\n",
    "\n",
    "\n",
    "| Column Name | Criteria                                                |\n",
    "|-------------|---------------------------------------------------------|\n",
    "| house_id    | Nominal. </br> Unique identifier for houses. </br>Missing values not possible. |\n",
    "| city        | Nominal. </br>The city in which the house is located. One of 'Silvertown', 'Riverford', 'Teasdale' and 'Poppleton' </br>Replace missing values with \"Unknown\". |\n",
    "| sale_price  | Discrete. </br>The sale price of the house in whole dollars. Values can be any positive number greater than or equal to zero.</br>Remove missing entries. |\n",
    "| sale_date   | Discrete. </br>The date of the last sale of the house. </br>Replace missing values with 2023-01-01. |\n",
    "| months_listed  | Continuous. </br>The number of months the house was listed on the market prior to its last sale, rounded to one decimal place. </br>Replace missing values with mean number of months listed, to one decimal place. |\n",
    "| bedrooms    | Discrete. </br>The number of bedrooms in the house. Any positive values greater than or equal to zero. </br>Replace missing values with the mean number of bedrooms, rounded to the nearest integer. |\n",
    "| house_type   | Ordinal. </br>One of \"Terraced\", \"Semi-detached\", or \"Detached\". </br>Replace missing values with the most common house type. |\n",
    "| area      | Continuous. </br>The area of the house in square meters, rounded to one decimal place. </br>Replace missing values with the mean, to one decimal place. |"
   ]
  },
  {
   "cell_type": "code",
   "execution_count": 359,
   "id": "dc9c2344-a350-461c-b5db-40768b2165a5",
   "metadata": {
    "executionCancelledAt": null,
    "executionTime": 48,
    "lastExecutedAt": 1688635510846,
    "lastScheduledRunId": null,
    "lastSuccessfullyExecutedCode": "# Use this cell to write your code for Task 2"
   },
   "outputs": [],
   "source": [
    "clean_data = house_sales.copy()"
   ]
  },
  {
   "cell_type": "code",
   "execution_count": 360,
   "id": "b5008a23",
   "metadata": {},
   "outputs": [
    {
     "name": "stdout",
     "output_type": "stream",
     "text": [
      "<class 'pandas.core.frame.DataFrame'>\n",
      "RangeIndex: 1500 entries, 0 to 1499\n",
      "Data columns (total 8 columns):\n",
      " #   Column         Non-Null Count  Dtype  \n",
      "---  ------         --------------  -----  \n",
      " 0   house_id       1500 non-null   int64  \n",
      " 1   city           1500 non-null   object \n",
      " 2   sale_price     1500 non-null   int64  \n",
      " 3   sale_date      1500 non-null   object \n",
      " 4   months_listed  1469 non-null   float64\n",
      " 5   bedrooms       1500 non-null   int64  \n",
      " 6   house_type     1500 non-null   object \n",
      " 7   area           1500 non-null   object \n",
      "dtypes: float64(1), int64(3), object(4)\n",
      "memory usage: 93.9+ KB\n"
     ]
    }
   ],
   "source": [
    "clean_data.info()"
   ]
  },
  {
   "cell_type": "code",
   "execution_count": 361,
   "id": "b982eaba",
   "metadata": {},
   "outputs": [
    {
     "name": "stderr",
     "output_type": "stream",
     "text": [
      "C:\\Users\\moham\\AppData\\Local\\Temp\\ipykernel_8204\\250484835.py:1: FutureWarning: A value is trying to be set on a copy of a DataFrame or Series through chained assignment using an inplace method.\n",
      "The behavior will change in pandas 3.0. This inplace method will never work because the intermediate object on which we are setting values always behaves as a copy.\n",
      "\n",
      "For example, when doing 'df[col].method(value, inplace=True)', try using 'df.method({col: value}, inplace=True)' or df[col] = df[col].method(value) instead, to perform the operation inplace on the original object.\n",
      "\n",
      "\n",
      "  clean_data['city'].fillna('Unknown', inplace=True)\n"
     ]
    }
   ],
   "source": [
    "clean_data['city'].fillna('Unknown', inplace=True)\n",
    "clean_data['city'] = clean_data['city'].replace('--', 'Unknown')"
   ]
  },
  {
   "cell_type": "code",
   "execution_count": 362,
   "id": "5e863f92",
   "metadata": {},
   "outputs": [],
   "source": [
    "clean_data.dropna(subset=['sale_price'], inplace=True)"
   ]
  },
  {
   "cell_type": "code",
   "execution_count": 363,
   "id": "6a192c9d",
   "metadata": {},
   "outputs": [
    {
     "data": {
      "text/html": [
       "<div>\n",
       "<style scoped>\n",
       "    .dataframe tbody tr th:only-of-type {\n",
       "        vertical-align: middle;\n",
       "    }\n",
       "\n",
       "    .dataframe tbody tr th {\n",
       "        vertical-align: top;\n",
       "    }\n",
       "\n",
       "    .dataframe thead th {\n",
       "        text-align: right;\n",
       "    }\n",
       "</style>\n",
       "<table border=\"1\" class=\"dataframe\">\n",
       "  <thead>\n",
       "    <tr style=\"text-align: right;\">\n",
       "      <th></th>\n",
       "      <th>house_id</th>\n",
       "      <th>city</th>\n",
       "      <th>sale_price</th>\n",
       "      <th>sale_date</th>\n",
       "      <th>months_listed</th>\n",
       "      <th>bedrooms</th>\n",
       "      <th>house_type</th>\n",
       "      <th>area</th>\n",
       "    </tr>\n",
       "  </thead>\n",
       "  <tbody>\n",
       "  </tbody>\n",
       "</table>\n",
       "</div>"
      ],
      "text/plain": [
       "Empty DataFrame\n",
       "Columns: [house_id, city, sale_price, sale_date, months_listed, bedrooms, house_type, area]\n",
       "Index: []"
      ]
     },
     "execution_count": 363,
     "metadata": {},
     "output_type": "execute_result"
    }
   ],
   "source": [
    "clean_data[clean_data['sale_price'] < 0]"
   ]
  },
  {
   "cell_type": "code",
   "execution_count": 364,
   "id": "6e96696b",
   "metadata": {},
   "outputs": [
    {
     "name": "stderr",
     "output_type": "stream",
     "text": [
      "C:\\Users\\moham\\AppData\\Local\\Temp\\ipykernel_8204\\3936878161.py:1: FutureWarning: A value is trying to be set on a copy of a DataFrame or Series through chained assignment using an inplace method.\n",
      "The behavior will change in pandas 3.0. This inplace method will never work because the intermediate object on which we are setting values always behaves as a copy.\n",
      "\n",
      "For example, when doing 'df[col].method(value, inplace=True)', try using 'df.method({col: value}, inplace=True)' or df[col] = df[col].method(value) instead, to perform the operation inplace on the original object.\n",
      "\n",
      "\n",
      "  clean_data['sale_date'].fillna('2023-01-01', inplace=True)\n"
     ]
    }
   ],
   "source": [
    "clean_data['sale_date'].fillna('2023-01-01', inplace=True)"
   ]
  },
  {
   "cell_type": "code",
   "execution_count": 365,
   "id": "54e6aa01",
   "metadata": {},
   "outputs": [
    {
     "name": "stderr",
     "output_type": "stream",
     "text": [
      "C:\\Users\\moham\\AppData\\Local\\Temp\\ipykernel_8204\\100869716.py:1: FutureWarning: A value is trying to be set on a copy of a DataFrame or Series through chained assignment using an inplace method.\n",
      "The behavior will change in pandas 3.0. This inplace method will never work because the intermediate object on which we are setting values always behaves as a copy.\n",
      "\n",
      "For example, when doing 'df[col].method(value, inplace=True)', try using 'df.method({col: value}, inplace=True)' or df[col] = df[col].method(value) instead, to perform the operation inplace on the original object.\n",
      "\n",
      "\n",
      "  clean_data['months_listed'].fillna(round(clean_data['months_listed'].mean(), 1), inplace=True)\n"
     ]
    }
   ],
   "source": [
    "clean_data['months_listed'].fillna(round(clean_data['months_listed'].mean(), 1), inplace=True)"
   ]
  },
  {
   "cell_type": "code",
   "execution_count": 366,
   "id": "4836f0ef",
   "metadata": {},
   "outputs": [
    {
     "data": {
      "text/html": [
       "<div>\n",
       "<style scoped>\n",
       "    .dataframe tbody tr th:only-of-type {\n",
       "        vertical-align: middle;\n",
       "    }\n",
       "\n",
       "    .dataframe tbody tr th {\n",
       "        vertical-align: top;\n",
       "    }\n",
       "\n",
       "    .dataframe thead th {\n",
       "        text-align: right;\n",
       "    }\n",
       "</style>\n",
       "<table border=\"1\" class=\"dataframe\">\n",
       "  <thead>\n",
       "    <tr style=\"text-align: right;\">\n",
       "      <th></th>\n",
       "      <th>house_id</th>\n",
       "      <th>city</th>\n",
       "      <th>sale_price</th>\n",
       "      <th>sale_date</th>\n",
       "      <th>months_listed</th>\n",
       "      <th>bedrooms</th>\n",
       "      <th>house_type</th>\n",
       "      <th>area</th>\n",
       "    </tr>\n",
       "  </thead>\n",
       "  <tbody>\n",
       "  </tbody>\n",
       "</table>\n",
       "</div>"
      ],
      "text/plain": [
       "Empty DataFrame\n",
       "Columns: [house_id, city, sale_price, sale_date, months_listed, bedrooms, house_type, area]\n",
       "Index: []"
      ]
     },
     "execution_count": 366,
     "metadata": {},
     "output_type": "execute_result"
    }
   ],
   "source": [
    "clean_data[clean_data['months_listed'] < 0]"
   ]
  },
  {
   "cell_type": "code",
   "execution_count": 367,
   "id": "28ea140a",
   "metadata": {},
   "outputs": [
    {
     "name": "stderr",
     "output_type": "stream",
     "text": [
      "C:\\Users\\moham\\AppData\\Local\\Temp\\ipykernel_8204\\204666329.py:1: FutureWarning: A value is trying to be set on a copy of a DataFrame or Series through chained assignment using an inplace method.\n",
      "The behavior will change in pandas 3.0. This inplace method will never work because the intermediate object on which we are setting values always behaves as a copy.\n",
      "\n",
      "For example, when doing 'df[col].method(value, inplace=True)', try using 'df.method({col: value}, inplace=True)' or df[col] = df[col].method(value) instead, to perform the operation inplace on the original object.\n",
      "\n",
      "\n",
      "  clean_data['bedrooms'].fillna(round(clean_data['bedrooms'].mean()), inplace=True)\n"
     ]
    }
   ],
   "source": [
    "clean_data['bedrooms'].fillna(round(clean_data['bedrooms'].mean()), inplace=True)"
   ]
  },
  {
   "cell_type": "code",
   "execution_count": 368,
   "id": "ff1ac39f",
   "metadata": {},
   "outputs": [
    {
     "data": {
      "text/html": [
       "<div>\n",
       "<style scoped>\n",
       "    .dataframe tbody tr th:only-of-type {\n",
       "        vertical-align: middle;\n",
       "    }\n",
       "\n",
       "    .dataframe tbody tr th {\n",
       "        vertical-align: top;\n",
       "    }\n",
       "\n",
       "    .dataframe thead th {\n",
       "        text-align: right;\n",
       "    }\n",
       "</style>\n",
       "<table border=\"1\" class=\"dataframe\">\n",
       "  <thead>\n",
       "    <tr style=\"text-align: right;\">\n",
       "      <th></th>\n",
       "      <th>house_id</th>\n",
       "      <th>city</th>\n",
       "      <th>sale_price</th>\n",
       "      <th>sale_date</th>\n",
       "      <th>months_listed</th>\n",
       "      <th>bedrooms</th>\n",
       "      <th>house_type</th>\n",
       "      <th>area</th>\n",
       "    </tr>\n",
       "  </thead>\n",
       "  <tbody>\n",
       "  </tbody>\n",
       "</table>\n",
       "</div>"
      ],
      "text/plain": [
       "Empty DataFrame\n",
       "Columns: [house_id, city, sale_price, sale_date, months_listed, bedrooms, house_type, area]\n",
       "Index: []"
      ]
     },
     "execution_count": 368,
     "metadata": {},
     "output_type": "execute_result"
    }
   ],
   "source": [
    "clean_data[clean_data['bedrooms'] < 0]"
   ]
  },
  {
   "cell_type": "code",
   "execution_count": 369,
   "metadata": {},
   "outputs": [
    {
     "data": {
      "text/plain": [
       "array(['Semi-detached', 'Detached', 'Det.', 'Terraced', 'Semi', 'Terr.'],\n",
       "      dtype=object)"
      ]
     },
     "execution_count": 369,
     "metadata": {},
     "output_type": "execute_result"
    }
   ],
   "source": [
    "clean_data['house_type'].unique()"
   ]
  },
  {
   "cell_type": "code",
   "execution_count": 370,
   "id": "3eae7947",
   "metadata": {},
   "outputs": [
    {
     "name": "stderr",
     "output_type": "stream",
     "text": [
      "C:\\Users\\moham\\AppData\\Local\\Temp\\ipykernel_8204\\2343624923.py:1: FutureWarning: A value is trying to be set on a copy of a DataFrame or Series through chained assignment using an inplace method.\n",
      "The behavior will change in pandas 3.0. This inplace method will never work because the intermediate object on which we are setting values always behaves as a copy.\n",
      "\n",
      "For example, when doing 'df[col].method(value, inplace=True)', try using 'df.method({col: value}, inplace=True)' or df[col] = df[col].method(value) instead, to perform the operation inplace on the original object.\n",
      "\n",
      "\n",
      "  clean_data['house_type'].replace({'Det.': 'Detached', 'Semi': 'Semi-detached', 'Terr.': 'Terraced'}, inplace=True)\n"
     ]
    }
   ],
   "source": [
    "clean_data['house_type'].replace({'Det.': 'Detached', 'Semi': 'Semi-detached', 'Terr.': 'Terraced'}, inplace=True)"
   ]
  },
  {
   "cell_type": "code",
   "execution_count": 371,
   "id": "c776e4a5",
   "metadata": {},
   "outputs": [],
   "source": [
    "house_types = ['Semi-detached', 'Detached', 'Terraced']\n",
    "house_type_mode = clean_data['house_type'].mode()[0]\n",
    "clean_data['house_type'] = clean_data['house_type'].apply(lambda x: house_type_mode if x not in house_types else x)"
   ]
  },
  {
   "cell_type": "code",
   "execution_count": 372,
   "metadata": {},
   "outputs": [],
   "source": [
    "clean_data['area']\n",
    "# Series.replace() for replacing the whole string, but Series.sre.replace() is for replacing substrings\n",
    "clean_data['area'] = clean_data['area'].str.replace(' sq.m.', '')\n",
    "clean_data['area'] = clean_data['area'].astype('float').round(1)"
   ]
  },
  {
   "cell_type": "code",
   "execution_count": 373,
   "id": "6f98c380",
   "metadata": {},
   "outputs": [
    {
     "name": "stderr",
     "output_type": "stream",
     "text": [
      "C:\\Users\\moham\\AppData\\Local\\Temp\\ipykernel_8204\\3082973083.py:1: FutureWarning: A value is trying to be set on a copy of a DataFrame or Series through chained assignment using an inplace method.\n",
      "The behavior will change in pandas 3.0. This inplace method will never work because the intermediate object on which we are setting values always behaves as a copy.\n",
      "\n",
      "For example, when doing 'df[col].method(value, inplace=True)', try using 'df.method({col: value}, inplace=True)' or df[col] = df[col].method(value) instead, to perform the operation inplace on the original object.\n",
      "\n",
      "\n",
      "  clean_data['area'].fillna(round(clean_data['area'].mean(), 1), inplace=True)\n"
     ]
    }
   ],
   "source": [
    "clean_data['area'].fillna(round(clean_data['area'].mean(), 1), inplace=True)"
   ]
  },
  {
   "cell_type": "code",
   "execution_count": 374,
   "id": "4c26e12b",
   "metadata": {},
   "outputs": [
    {
     "name": "stdout",
     "output_type": "stream",
     "text": [
      "<class 'pandas.core.frame.DataFrame'>\n",
      "RangeIndex: 1500 entries, 0 to 1499\n",
      "Data columns (total 8 columns):\n",
      " #   Column         Non-Null Count  Dtype  \n",
      "---  ------         --------------  -----  \n",
      " 0   house_id       1500 non-null   int64  \n",
      " 1   city           1500 non-null   object \n",
      " 2   sale_price     1500 non-null   int64  \n",
      " 3   sale_date      1500 non-null   object \n",
      " 4   months_listed  1500 non-null   float64\n",
      " 5   bedrooms       1500 non-null   int64  \n",
      " 6   house_type     1500 non-null   object \n",
      " 7   area           1500 non-null   float64\n",
      "dtypes: float64(2), int64(3), object(3)\n",
      "memory usage: 93.9+ KB\n"
     ]
    }
   ],
   "source": [
    "clean_data.info()"
   ]
  },
  {
   "cell_type": "markdown",
   "id": "ff3c2889-66f3-4a6b-acac-2b12626e3244",
   "metadata": {},
   "source": [
    "# Task 3 \n",
    "\n",
    "The team at RealAgents have told you that they have always believed that the number of bedrooms is the biggest driver of house price. \n",
    "\n",
    "Producing a table showing the difference in the average sale price by number of bedrooms along with the variance to investigate this question for the team.\n",
    "\n",
    " - You should start with the data in the file 'house_sales.csv'.\n",
    "\n",
    " - Your output should be a data frame named `price_by_rooms`. \n",
    "\n",
    " - It should include the three columns `bedrooms`, `avg_price`, `var_price`. \n",
    "\n",
    " - Your answers should be rounded to 1 decimal place.   "
   ]
  },
  {
   "cell_type": "code",
   "execution_count": 375,
   "id": "ea512a1c-e512-4f2e-8d78-323e51d01407",
   "metadata": {
    "executionCancelledAt": null,
    "executionTime": 49,
    "lastExecutedAt": 1688635490394,
    "lastScheduledRunId": null,
    "lastSuccessfullyExecutedCode": "# Use this cell to write your code for Task 3"
   },
   "outputs": [
    {
     "data": {
      "text/html": [
       "<div>\n",
       "<style scoped>\n",
       "    .dataframe tbody tr th:only-of-type {\n",
       "        vertical-align: middle;\n",
       "    }\n",
       "\n",
       "    .dataframe tbody tr th {\n",
       "        vertical-align: top;\n",
       "    }\n",
       "\n",
       "    .dataframe thead th {\n",
       "        text-align: right;\n",
       "    }\n",
       "</style>\n",
       "<table border=\"1\" class=\"dataframe\">\n",
       "  <thead>\n",
       "    <tr style=\"text-align: right;\">\n",
       "      <th></th>\n",
       "      <th>bedrooms</th>\n",
       "      <th>avg_price</th>\n",
       "      <th>var_price</th>\n",
       "    </tr>\n",
       "  </thead>\n",
       "  <tbody>\n",
       "    <tr>\n",
       "      <th>0</th>\n",
       "      <td>2</td>\n",
       "      <td>67076.4</td>\n",
       "      <td>5.652896e+08</td>\n",
       "    </tr>\n",
       "    <tr>\n",
       "      <th>1</th>\n",
       "      <td>3</td>\n",
       "      <td>154665.1</td>\n",
       "      <td>2.378289e+09</td>\n",
       "    </tr>\n",
       "    <tr>\n",
       "      <th>2</th>\n",
       "      <td>4</td>\n",
       "      <td>234704.6</td>\n",
       "      <td>1.725211e+09</td>\n",
       "    </tr>\n",
       "    <tr>\n",
       "      <th>3</th>\n",
       "      <td>5</td>\n",
       "      <td>301515.9</td>\n",
       "      <td>2.484328e+09</td>\n",
       "    </tr>\n",
       "    <tr>\n",
       "      <th>4</th>\n",
       "      <td>6</td>\n",
       "      <td>375741.3</td>\n",
       "      <td>3.924432e+09</td>\n",
       "    </tr>\n",
       "  </tbody>\n",
       "</table>\n",
       "</div>"
      ],
      "text/plain": [
       "   bedrooms  avg_price     var_price\n",
       "0         2    67076.4  5.652896e+08\n",
       "1         3   154665.1  2.378289e+09\n",
       "2         4   234704.6  1.725211e+09\n",
       "3         5   301515.9  2.484328e+09\n",
       "4         6   375741.3  3.924432e+09"
      ]
     },
     "execution_count": 375,
     "metadata": {},
     "output_type": "execute_result"
    }
   ],
   "source": [
    "price_by_rooms = house_sales.groupby('bedrooms', as_index=False).agg(\n",
    "    avg_price = ('sale_price', 'mean'),\n",
    "    var_price = ('sale_price', 'var')\n",
    ").round({'avg_price' : 1, 'var_price' : 1})\n",
    "\n",
    "price_by_rooms\n",
    "# if you print(price_by_rooms['var_price'][0]), you will notice that it's rounded to only one decimal place"
   ]
  },
  {
   "cell_type": "markdown",
   "id": "ac7038d1-7a8f-4d97-aef1-36f3f1227374",
   "metadata": {},
   "source": [
    "# Task 4\n",
    "\n",
    "Fit a baseline model to predict the sale price of a house.\n",
    "\n",
    " 1. Fit your model using the data contained in “train.csv” </br></br>\n",
    "\n",
    " 2. Use “validation.csv” to predict new values based on your model. You must return a dataframe named `base_result`, that includes `house_id` and `price`. The price column must be your predicted values."
   ]
  },
  {
   "cell_type": "code",
   "execution_count": 376,
   "id": "96496c59-fdd4-4683-9884-551ad93b788f",
   "metadata": {},
   "outputs": [],
   "source": [
    "from sklearn.ensemble import RandomForestRegressor\n",
    "from sklearn.preprocessing import StandardScaler"
   ]
  },
  {
   "cell_type": "code",
   "execution_count": 377,
   "id": "17860786",
   "metadata": {},
   "outputs": [
    {
     "data": {
      "text/html": [
       "<div>\n",
       "<style scoped>\n",
       "    .dataframe tbody tr th:only-of-type {\n",
       "        vertical-align: middle;\n",
       "    }\n",
       "\n",
       "    .dataframe tbody tr th {\n",
       "        vertical-align: top;\n",
       "    }\n",
       "\n",
       "    .dataframe thead th {\n",
       "        text-align: right;\n",
       "    }\n",
       "</style>\n",
       "<table border=\"1\" class=\"dataframe\">\n",
       "  <thead>\n",
       "    <tr style=\"text-align: right;\">\n",
       "      <th></th>\n",
       "      <th>house_id</th>\n",
       "      <th>city</th>\n",
       "      <th>sale_price</th>\n",
       "      <th>sale_date</th>\n",
       "      <th>months_listed</th>\n",
       "      <th>bedrooms</th>\n",
       "      <th>house_type</th>\n",
       "      <th>area</th>\n",
       "    </tr>\n",
       "  </thead>\n",
       "  <tbody>\n",
       "    <tr>\n",
       "      <th>0</th>\n",
       "      <td>1634561</td>\n",
       "      <td>Teasdale</td>\n",
       "      <td>401869</td>\n",
       "      <td>2021-12-14</td>\n",
       "      <td>7.0</td>\n",
       "      <td>6</td>\n",
       "      <td>Detached</td>\n",
       "      <td>519.7</td>\n",
       "    </tr>\n",
       "    <tr>\n",
       "      <th>1</th>\n",
       "      <td>1009770</td>\n",
       "      <td>Silvertown</td>\n",
       "      <td>372387</td>\n",
       "      <td>2022-09-11</td>\n",
       "      <td>8.1</td>\n",
       "      <td>6</td>\n",
       "      <td>Detached</td>\n",
       "      <td>507.8</td>\n",
       "    </tr>\n",
       "    <tr>\n",
       "      <th>2</th>\n",
       "      <td>1946667</td>\n",
       "      <td>Silvertown</td>\n",
       "      <td>325473</td>\n",
       "      <td>2020-08-19</td>\n",
       "      <td>5.4</td>\n",
       "      <td>5</td>\n",
       "      <td>Detached</td>\n",
       "      <td>466.8</td>\n",
       "    </tr>\n",
       "    <tr>\n",
       "      <th>3</th>\n",
       "      <td>1798290</td>\n",
       "      <td>Silvertown</td>\n",
       "      <td>349469</td>\n",
       "      <td>2022-12-10</td>\n",
       "      <td>6.4</td>\n",
       "      <td>5</td>\n",
       "      <td>Detached</td>\n",
       "      <td>499.4</td>\n",
       "    </tr>\n",
       "    <tr>\n",
       "      <th>4</th>\n",
       "      <td>1533461</td>\n",
       "      <td>Poppleton</td>\n",
       "      <td>199995</td>\n",
       "      <td>2020-04-07</td>\n",
       "      <td>4.3</td>\n",
       "      <td>4</td>\n",
       "      <td>Detached</td>\n",
       "      <td>335.0</td>\n",
       "    </tr>\n",
       "  </tbody>\n",
       "</table>\n",
       "</div>"
      ],
      "text/plain": [
       "   house_id        city  sale_price   sale_date  months_listed  bedrooms  \\\n",
       "0   1634561    Teasdale      401869  2021-12-14            7.0         6   \n",
       "1   1009770  Silvertown      372387  2022-09-11            8.1         6   \n",
       "2   1946667  Silvertown      325473  2020-08-19            5.4         5   \n",
       "3   1798290  Silvertown      349469  2022-12-10            6.4         5   \n",
       "4   1533461   Poppleton      199995  2020-04-07            4.3         4   \n",
       "\n",
       "  house_type   area  \n",
       "0   Detached  519.7  \n",
       "1   Detached  507.8  \n",
       "2   Detached  466.8  \n",
       "3   Detached  499.4  \n",
       "4   Detached  335.0  "
      ]
     },
     "execution_count": 377,
     "metadata": {},
     "output_type": "execute_result"
    }
   ],
   "source": [
    "train = pd.read_csv('train.csv')\n",
    "train.head()"
   ]
  },
  {
   "cell_type": "code",
   "execution_count": 378,
   "id": "73c1c07c",
   "metadata": {},
   "outputs": [
    {
     "data": {
      "text/html": [
       "<div>\n",
       "<style scoped>\n",
       "    .dataframe tbody tr th:only-of-type {\n",
       "        vertical-align: middle;\n",
       "    }\n",
       "\n",
       "    .dataframe tbody tr th {\n",
       "        vertical-align: top;\n",
       "    }\n",
       "\n",
       "    .dataframe thead th {\n",
       "        text-align: right;\n",
       "    }\n",
       "</style>\n",
       "<table border=\"1\" class=\"dataframe\">\n",
       "  <thead>\n",
       "    <tr style=\"text-align: right;\">\n",
       "      <th></th>\n",
       "      <th>house_id</th>\n",
       "      <th>sale_price</th>\n",
       "      <th>sale_date</th>\n",
       "      <th>months_listed</th>\n",
       "      <th>area</th>\n",
       "      <th>city_Poppleton</th>\n",
       "      <th>city_Riverford</th>\n",
       "      <th>city_Silvertown</th>\n",
       "      <th>city_Teasdale</th>\n",
       "      <th>bedrooms_2</th>\n",
       "      <th>bedrooms_3</th>\n",
       "      <th>bedrooms_4</th>\n",
       "      <th>bedrooms_5</th>\n",
       "      <th>bedrooms_6</th>\n",
       "      <th>house_type_Detached</th>\n",
       "      <th>house_type_Semi-detached</th>\n",
       "      <th>house_type_Terraced</th>\n",
       "    </tr>\n",
       "  </thead>\n",
       "  <tbody>\n",
       "    <tr>\n",
       "      <th>0</th>\n",
       "      <td>1634561</td>\n",
       "      <td>401869</td>\n",
       "      <td>2021-12-14</td>\n",
       "      <td>7.0</td>\n",
       "      <td>519.7</td>\n",
       "      <td>False</td>\n",
       "      <td>False</td>\n",
       "      <td>False</td>\n",
       "      <td>True</td>\n",
       "      <td>False</td>\n",
       "      <td>False</td>\n",
       "      <td>False</td>\n",
       "      <td>False</td>\n",
       "      <td>True</td>\n",
       "      <td>True</td>\n",
       "      <td>False</td>\n",
       "      <td>False</td>\n",
       "    </tr>\n",
       "    <tr>\n",
       "      <th>1</th>\n",
       "      <td>1009770</td>\n",
       "      <td>372387</td>\n",
       "      <td>2022-09-11</td>\n",
       "      <td>8.1</td>\n",
       "      <td>507.8</td>\n",
       "      <td>False</td>\n",
       "      <td>False</td>\n",
       "      <td>True</td>\n",
       "      <td>False</td>\n",
       "      <td>False</td>\n",
       "      <td>False</td>\n",
       "      <td>False</td>\n",
       "      <td>False</td>\n",
       "      <td>True</td>\n",
       "      <td>True</td>\n",
       "      <td>False</td>\n",
       "      <td>False</td>\n",
       "    </tr>\n",
       "    <tr>\n",
       "      <th>2</th>\n",
       "      <td>1946667</td>\n",
       "      <td>325473</td>\n",
       "      <td>2020-08-19</td>\n",
       "      <td>5.4</td>\n",
       "      <td>466.8</td>\n",
       "      <td>False</td>\n",
       "      <td>False</td>\n",
       "      <td>True</td>\n",
       "      <td>False</td>\n",
       "      <td>False</td>\n",
       "      <td>False</td>\n",
       "      <td>False</td>\n",
       "      <td>True</td>\n",
       "      <td>False</td>\n",
       "      <td>True</td>\n",
       "      <td>False</td>\n",
       "      <td>False</td>\n",
       "    </tr>\n",
       "    <tr>\n",
       "      <th>3</th>\n",
       "      <td>1798290</td>\n",
       "      <td>349469</td>\n",
       "      <td>2022-12-10</td>\n",
       "      <td>6.4</td>\n",
       "      <td>499.4</td>\n",
       "      <td>False</td>\n",
       "      <td>False</td>\n",
       "      <td>True</td>\n",
       "      <td>False</td>\n",
       "      <td>False</td>\n",
       "      <td>False</td>\n",
       "      <td>False</td>\n",
       "      <td>True</td>\n",
       "      <td>False</td>\n",
       "      <td>True</td>\n",
       "      <td>False</td>\n",
       "      <td>False</td>\n",
       "    </tr>\n",
       "    <tr>\n",
       "      <th>4</th>\n",
       "      <td>1533461</td>\n",
       "      <td>199995</td>\n",
       "      <td>2020-04-07</td>\n",
       "      <td>4.3</td>\n",
       "      <td>335.0</td>\n",
       "      <td>True</td>\n",
       "      <td>False</td>\n",
       "      <td>False</td>\n",
       "      <td>False</td>\n",
       "      <td>False</td>\n",
       "      <td>False</td>\n",
       "      <td>True</td>\n",
       "      <td>False</td>\n",
       "      <td>False</td>\n",
       "      <td>True</td>\n",
       "      <td>False</td>\n",
       "      <td>False</td>\n",
       "    </tr>\n",
       "  </tbody>\n",
       "</table>\n",
       "</div>"
      ],
      "text/plain": [
       "   house_id  sale_price   sale_date  months_listed   area  city_Poppleton  \\\n",
       "0   1634561      401869  2021-12-14            7.0  519.7           False   \n",
       "1   1009770      372387  2022-09-11            8.1  507.8           False   \n",
       "2   1946667      325473  2020-08-19            5.4  466.8           False   \n",
       "3   1798290      349469  2022-12-10            6.4  499.4           False   \n",
       "4   1533461      199995  2020-04-07            4.3  335.0            True   \n",
       "\n",
       "   city_Riverford  city_Silvertown  city_Teasdale  bedrooms_2  bedrooms_3  \\\n",
       "0           False            False           True       False       False   \n",
       "1           False             True          False       False       False   \n",
       "2           False             True          False       False       False   \n",
       "3           False             True          False       False       False   \n",
       "4           False            False          False       False       False   \n",
       "\n",
       "   bedrooms_4  bedrooms_5  bedrooms_6  house_type_Detached  \\\n",
       "0       False       False        True                 True   \n",
       "1       False       False        True                 True   \n",
       "2       False        True       False                 True   \n",
       "3       False        True       False                 True   \n",
       "4        True       False       False                 True   \n",
       "\n",
       "   house_type_Semi-detached  house_type_Terraced  \n",
       "0                     False                False  \n",
       "1                     False                False  \n",
       "2                     False                False  \n",
       "3                     False                False  \n",
       "4                     False                False  "
      ]
     },
     "execution_count": 378,
     "metadata": {},
     "output_type": "execute_result"
    }
   ],
   "source": [
    "train_hotencoded = pd.get_dummies(data=train, columns=['city', 'bedrooms', 'house_type'])\n",
    "train_hotencoded.head()"
   ]
  },
  {
   "cell_type": "code",
   "execution_count": 379,
   "id": "0b7540cf",
   "metadata": {},
   "outputs": [],
   "source": [
    "X_train = train_hotencoded.drop(columns=['house_id', 'sale_price', 'sale_date'])\n",
    "y_train = train_hotencoded['sale_price']"
   ]
  },
  {
   "cell_type": "code",
   "execution_count": 380,
   "id": "c55ff44c",
   "metadata": {},
   "outputs": [],
   "source": [
    "std_scalar = StandardScaler()\n",
    "X_train_scaled = std_scalar.fit_transform(X_train)"
   ]
  },
  {
   "cell_type": "code",
   "execution_count": 381,
   "id": "62466856",
   "metadata": {},
   "outputs": [
    {
     "data": {
      "text/html": [
       "<div>\n",
       "<style scoped>\n",
       "    .dataframe tbody tr th:only-of-type {\n",
       "        vertical-align: middle;\n",
       "    }\n",
       "\n",
       "    .dataframe tbody tr th {\n",
       "        vertical-align: top;\n",
       "    }\n",
       "\n",
       "    .dataframe thead th {\n",
       "        text-align: right;\n",
       "    }\n",
       "</style>\n",
       "<table border=\"1\" class=\"dataframe\">\n",
       "  <thead>\n",
       "    <tr style=\"text-align: right;\">\n",
       "      <th></th>\n",
       "      <th>house_id</th>\n",
       "      <th>city</th>\n",
       "      <th>sale_date</th>\n",
       "      <th>months_listed</th>\n",
       "      <th>bedrooms</th>\n",
       "      <th>house_type</th>\n",
       "      <th>area</th>\n",
       "    </tr>\n",
       "  </thead>\n",
       "  <tbody>\n",
       "    <tr>\n",
       "      <th>0</th>\n",
       "      <td>1331375</td>\n",
       "      <td>Teasdale</td>\n",
       "      <td>2022-05-17</td>\n",
       "      <td>7.7</td>\n",
       "      <td>3</td>\n",
       "      <td>Terraced</td>\n",
       "      <td>209.7</td>\n",
       "    </tr>\n",
       "    <tr>\n",
       "      <th>1</th>\n",
       "      <td>1630115</td>\n",
       "      <td>Teasdale</td>\n",
       "      <td>2020-06-30</td>\n",
       "      <td>6.5</td>\n",
       "      <td>4</td>\n",
       "      <td>Detached</td>\n",
       "      <td>390.6</td>\n",
       "    </tr>\n",
       "    <tr>\n",
       "      <th>2</th>\n",
       "      <td>1645745</td>\n",
       "      <td>Silvertown</td>\n",
       "      <td>2020-09-02</td>\n",
       "      <td>7.4</td>\n",
       "      <td>6</td>\n",
       "      <td>Detached</td>\n",
       "      <td>556.8</td>\n",
       "    </tr>\n",
       "    <tr>\n",
       "      <th>3</th>\n",
       "      <td>1336775</td>\n",
       "      <td>Silvertown</td>\n",
       "      <td>2021-10-03</td>\n",
       "      <td>8.8</td>\n",
       "      <td>3</td>\n",
       "      <td>Semi-detached</td>\n",
       "      <td>208.3</td>\n",
       "    </tr>\n",
       "    <tr>\n",
       "      <th>4</th>\n",
       "      <td>1888274</td>\n",
       "      <td>Silvertown</td>\n",
       "      <td>2022-06-13</td>\n",
       "      <td>5.7</td>\n",
       "      <td>4</td>\n",
       "      <td>Detached</td>\n",
       "      <td>389.2</td>\n",
       "    </tr>\n",
       "  </tbody>\n",
       "</table>\n",
       "</div>"
      ],
      "text/plain": [
       "   house_id        city   sale_date  months_listed  bedrooms     house_type  \\\n",
       "0   1331375    Teasdale  2022-05-17            7.7         3       Terraced   \n",
       "1   1630115    Teasdale  2020-06-30            6.5         4       Detached   \n",
       "2   1645745  Silvertown  2020-09-02            7.4         6       Detached   \n",
       "3   1336775  Silvertown  2021-10-03            8.8         3  Semi-detached   \n",
       "4   1888274  Silvertown  2022-06-13            5.7         4       Detached   \n",
       "\n",
       "    area  \n",
       "0  209.7  \n",
       "1  390.6  \n",
       "2  556.8  \n",
       "3  208.3  \n",
       "4  389.2  "
      ]
     },
     "execution_count": 381,
     "metadata": {},
     "output_type": "execute_result"
    }
   ],
   "source": [
    "validation = pd.read_csv('validation.csv')\n",
    "validation.head()"
   ]
  },
  {
   "cell_type": "code",
   "execution_count": 382,
   "id": "ea3da4df",
   "metadata": {},
   "outputs": [
    {
     "data": {
      "text/html": [
       "<div>\n",
       "<style scoped>\n",
       "    .dataframe tbody tr th:only-of-type {\n",
       "        vertical-align: middle;\n",
       "    }\n",
       "\n",
       "    .dataframe tbody tr th {\n",
       "        vertical-align: top;\n",
       "    }\n",
       "\n",
       "    .dataframe thead th {\n",
       "        text-align: right;\n",
       "    }\n",
       "</style>\n",
       "<table border=\"1\" class=\"dataframe\">\n",
       "  <thead>\n",
       "    <tr style=\"text-align: right;\">\n",
       "      <th></th>\n",
       "      <th>house_id</th>\n",
       "      <th>sale_date</th>\n",
       "      <th>months_listed</th>\n",
       "      <th>area</th>\n",
       "      <th>city_Poppleton</th>\n",
       "      <th>city_Riverford</th>\n",
       "      <th>city_Silvertown</th>\n",
       "      <th>city_Teasdale</th>\n",
       "      <th>bedrooms_2</th>\n",
       "      <th>bedrooms_3</th>\n",
       "      <th>bedrooms_4</th>\n",
       "      <th>bedrooms_5</th>\n",
       "      <th>bedrooms_6</th>\n",
       "      <th>house_type_Detached</th>\n",
       "      <th>house_type_Semi-detached</th>\n",
       "      <th>house_type_Terraced</th>\n",
       "    </tr>\n",
       "  </thead>\n",
       "  <tbody>\n",
       "    <tr>\n",
       "      <th>0</th>\n",
       "      <td>1331375</td>\n",
       "      <td>2022-05-17</td>\n",
       "      <td>7.7</td>\n",
       "      <td>209.7</td>\n",
       "      <td>False</td>\n",
       "      <td>False</td>\n",
       "      <td>False</td>\n",
       "      <td>True</td>\n",
       "      <td>False</td>\n",
       "      <td>True</td>\n",
       "      <td>False</td>\n",
       "      <td>False</td>\n",
       "      <td>False</td>\n",
       "      <td>False</td>\n",
       "      <td>False</td>\n",
       "      <td>True</td>\n",
       "    </tr>\n",
       "    <tr>\n",
       "      <th>1</th>\n",
       "      <td>1630115</td>\n",
       "      <td>2020-06-30</td>\n",
       "      <td>6.5</td>\n",
       "      <td>390.6</td>\n",
       "      <td>False</td>\n",
       "      <td>False</td>\n",
       "      <td>False</td>\n",
       "      <td>True</td>\n",
       "      <td>False</td>\n",
       "      <td>False</td>\n",
       "      <td>True</td>\n",
       "      <td>False</td>\n",
       "      <td>False</td>\n",
       "      <td>True</td>\n",
       "      <td>False</td>\n",
       "      <td>False</td>\n",
       "    </tr>\n",
       "    <tr>\n",
       "      <th>2</th>\n",
       "      <td>1645745</td>\n",
       "      <td>2020-09-02</td>\n",
       "      <td>7.4</td>\n",
       "      <td>556.8</td>\n",
       "      <td>False</td>\n",
       "      <td>False</td>\n",
       "      <td>True</td>\n",
       "      <td>False</td>\n",
       "      <td>False</td>\n",
       "      <td>False</td>\n",
       "      <td>False</td>\n",
       "      <td>False</td>\n",
       "      <td>True</td>\n",
       "      <td>True</td>\n",
       "      <td>False</td>\n",
       "      <td>False</td>\n",
       "    </tr>\n",
       "    <tr>\n",
       "      <th>3</th>\n",
       "      <td>1336775</td>\n",
       "      <td>2021-10-03</td>\n",
       "      <td>8.8</td>\n",
       "      <td>208.3</td>\n",
       "      <td>False</td>\n",
       "      <td>False</td>\n",
       "      <td>True</td>\n",
       "      <td>False</td>\n",
       "      <td>False</td>\n",
       "      <td>True</td>\n",
       "      <td>False</td>\n",
       "      <td>False</td>\n",
       "      <td>False</td>\n",
       "      <td>False</td>\n",
       "      <td>True</td>\n",
       "      <td>False</td>\n",
       "    </tr>\n",
       "    <tr>\n",
       "      <th>4</th>\n",
       "      <td>1888274</td>\n",
       "      <td>2022-06-13</td>\n",
       "      <td>5.7</td>\n",
       "      <td>389.2</td>\n",
       "      <td>False</td>\n",
       "      <td>False</td>\n",
       "      <td>True</td>\n",
       "      <td>False</td>\n",
       "      <td>False</td>\n",
       "      <td>False</td>\n",
       "      <td>True</td>\n",
       "      <td>False</td>\n",
       "      <td>False</td>\n",
       "      <td>True</td>\n",
       "      <td>False</td>\n",
       "      <td>False</td>\n",
       "    </tr>\n",
       "  </tbody>\n",
       "</table>\n",
       "</div>"
      ],
      "text/plain": [
       "   house_id   sale_date  months_listed   area  city_Poppleton  city_Riverford  \\\n",
       "0   1331375  2022-05-17            7.7  209.7           False           False   \n",
       "1   1630115  2020-06-30            6.5  390.6           False           False   \n",
       "2   1645745  2020-09-02            7.4  556.8           False           False   \n",
       "3   1336775  2021-10-03            8.8  208.3           False           False   \n",
       "4   1888274  2022-06-13            5.7  389.2           False           False   \n",
       "\n",
       "   city_Silvertown  city_Teasdale  bedrooms_2  bedrooms_3  bedrooms_4  \\\n",
       "0            False           True       False        True       False   \n",
       "1            False           True       False       False        True   \n",
       "2             True          False       False       False       False   \n",
       "3             True          False       False        True       False   \n",
       "4             True          False       False       False        True   \n",
       "\n",
       "   bedrooms_5  bedrooms_6  house_type_Detached  house_type_Semi-detached  \\\n",
       "0       False       False                False                     False   \n",
       "1       False       False                 True                     False   \n",
       "2       False        True                 True                     False   \n",
       "3       False       False                False                      True   \n",
       "4       False       False                 True                     False   \n",
       "\n",
       "   house_type_Terraced  \n",
       "0                 True  \n",
       "1                False  \n",
       "2                False  \n",
       "3                False  \n",
       "4                False  "
      ]
     },
     "execution_count": 382,
     "metadata": {},
     "output_type": "execute_result"
    }
   ],
   "source": [
    "validation_hotencoded = pd.get_dummies(data=validation, columns=['city', 'bedrooms', 'house_type'])\n",
    "validation_hotencoded.head()"
   ]
  },
  {
   "cell_type": "code",
   "execution_count": 383,
   "id": "5ca5cd2d",
   "metadata": {},
   "outputs": [],
   "source": [
    "X_validation = validation_hotencoded.drop(columns=['house_id', 'sale_date'])\n",
    "X_validation_scaled = std_scalar.transform(X_validation)"
   ]
  },
  {
   "cell_type": "code",
   "execution_count": 384,
   "id": "a0afa869",
   "metadata": {},
   "outputs": [
    {
     "data": {
      "text/plain": [
       "array([ 82384.43866667, 303364.79295635, 402093.22234862, 107300.40485929,\n",
       "       265379.56360803, 278943.87343987, 336563.4642352 ,  37717.73914286,\n",
       "       174154.82585642, 211506.89709646])"
      ]
     },
     "execution_count": 384,
     "metadata": {},
     "output_type": "execute_result"
    }
   ],
   "source": [
    "rf = RandomForestRegressor(n_estimators=100, max_depth=10, random_state=42)\n",
    "rf.fit(X_train_scaled, y_train)\n",
    "y_pred = rf.predict(X_validation_scaled)\n",
    "y_pred[:10]"
   ]
  },
  {
   "cell_type": "code",
   "execution_count": 385,
   "id": "d529bf84",
   "metadata": {},
   "outputs": [
    {
     "data": {
      "text/html": [
       "<div>\n",
       "<style scoped>\n",
       "    .dataframe tbody tr th:only-of-type {\n",
       "        vertical-align: middle;\n",
       "    }\n",
       "\n",
       "    .dataframe tbody tr th {\n",
       "        vertical-align: top;\n",
       "    }\n",
       "\n",
       "    .dataframe thead th {\n",
       "        text-align: right;\n",
       "    }\n",
       "</style>\n",
       "<table border=\"1\" class=\"dataframe\">\n",
       "  <thead>\n",
       "    <tr style=\"text-align: right;\">\n",
       "      <th></th>\n",
       "      <th>house_id</th>\n",
       "      <th>price</th>\n",
       "    </tr>\n",
       "  </thead>\n",
       "  <tbody>\n",
       "    <tr>\n",
       "      <th>0</th>\n",
       "      <td>1331375</td>\n",
       "      <td>82384.438667</td>\n",
       "    </tr>\n",
       "    <tr>\n",
       "      <th>1</th>\n",
       "      <td>1630115</td>\n",
       "      <td>303364.792956</td>\n",
       "    </tr>\n",
       "    <tr>\n",
       "      <th>2</th>\n",
       "      <td>1645745</td>\n",
       "      <td>402093.222349</td>\n",
       "    </tr>\n",
       "    <tr>\n",
       "      <th>3</th>\n",
       "      <td>1336775</td>\n",
       "      <td>107300.404859</td>\n",
       "    </tr>\n",
       "    <tr>\n",
       "      <th>4</th>\n",
       "      <td>1888274</td>\n",
       "      <td>265379.563608</td>\n",
       "    </tr>\n",
       "    <tr>\n",
       "      <th>5</th>\n",
       "      <td>1567679</td>\n",
       "      <td>278943.873440</td>\n",
       "    </tr>\n",
       "    <tr>\n",
       "      <th>6</th>\n",
       "      <td>1298770</td>\n",
       "      <td>336563.464235</td>\n",
       "    </tr>\n",
       "    <tr>\n",
       "      <th>7</th>\n",
       "      <td>1662892</td>\n",
       "      <td>37717.739143</td>\n",
       "    </tr>\n",
       "    <tr>\n",
       "      <th>8</th>\n",
       "      <td>1514321</td>\n",
       "      <td>174154.825856</td>\n",
       "    </tr>\n",
       "    <tr>\n",
       "      <th>9</th>\n",
       "      <td>1795371</td>\n",
       "      <td>211506.897096</td>\n",
       "    </tr>\n",
       "  </tbody>\n",
       "</table>\n",
       "</div>"
      ],
      "text/plain": [
       "   house_id          price\n",
       "0   1331375   82384.438667\n",
       "1   1630115  303364.792956\n",
       "2   1645745  402093.222349\n",
       "3   1336775  107300.404859\n",
       "4   1888274  265379.563608\n",
       "5   1567679  278943.873440\n",
       "6   1298770  336563.464235\n",
       "7   1662892   37717.739143\n",
       "8   1514321  174154.825856\n",
       "9   1795371  211506.897096"
      ]
     },
     "execution_count": 385,
     "metadata": {},
     "output_type": "execute_result"
    }
   ],
   "source": [
    "base_result = pd.DataFrame({\n",
    "    'house_id': validation['house_id'],\n",
    "    'price': y_pred\n",
    "})\n",
    "base_result.head(10)"
   ]
  },
  {
   "cell_type": "markdown",
   "id": "7c674c01-d6de-488d-b2e0-bc3bbf87def6",
   "metadata": {},
   "source": [
    "# Task 5\n",
    "\n",
    "Fit a comparison model to predict the sale price of a house.\n",
    "\n",
    " 1. Fit your model using the data contained in “train.csv” </br></br>\n",
    "\n",
    " 2. Use “validation.csv” to predict new values based on your model. You must return a dataframe named `compare_result`, that includes `house_id` and `price`. The price column must be your predicted values."
   ]
  },
  {
   "cell_type": "code",
   "execution_count": 386,
   "id": "a75f9117",
   "metadata": {},
   "outputs": [],
   "source": [
    "from sklearn.ensemble import GradientBoostingRegressor"
   ]
  },
  {
   "cell_type": "code",
   "execution_count": 387,
   "id": "538ffb3d-4008-49b6-9876-7831e025f5a4",
   "metadata": {},
   "outputs": [
    {
     "data": {
      "text/plain": [
       "array([ 84556.93608476, 299433.04566185, 408918.59907574, 108505.02140676,\n",
       "       272967.52717184, 279325.46647596, 345912.99510143,  35995.14898539,\n",
       "       175850.76590351, 216193.42245107])"
      ]
     },
     "execution_count": 387,
     "metadata": {},
     "output_type": "execute_result"
    }
   ],
   "source": [
    "gbr = GradientBoostingRegressor(n_estimators=100, max_depth=10, random_state=42)\n",
    "gbr.fit(X_train_scaled, y_train)\n",
    "y_pred = gbr.predict(X_validation_scaled)\n",
    "y_pred[:10]"
   ]
  },
  {
   "cell_type": "code",
   "execution_count": 388,
   "id": "9fb4af6f",
   "metadata": {},
   "outputs": [
    {
     "data": {
      "text/html": [
       "<div>\n",
       "<style scoped>\n",
       "    .dataframe tbody tr th:only-of-type {\n",
       "        vertical-align: middle;\n",
       "    }\n",
       "\n",
       "    .dataframe tbody tr th {\n",
       "        vertical-align: top;\n",
       "    }\n",
       "\n",
       "    .dataframe thead th {\n",
       "        text-align: right;\n",
       "    }\n",
       "</style>\n",
       "<table border=\"1\" class=\"dataframe\">\n",
       "  <thead>\n",
       "    <tr style=\"text-align: right;\">\n",
       "      <th></th>\n",
       "      <th>house_id</th>\n",
       "      <th>price</th>\n",
       "    </tr>\n",
       "  </thead>\n",
       "  <tbody>\n",
       "    <tr>\n",
       "      <th>0</th>\n",
       "      <td>1331375</td>\n",
       "      <td>84556.936085</td>\n",
       "    </tr>\n",
       "    <tr>\n",
       "      <th>1</th>\n",
       "      <td>1630115</td>\n",
       "      <td>299433.045662</td>\n",
       "    </tr>\n",
       "    <tr>\n",
       "      <th>2</th>\n",
       "      <td>1645745</td>\n",
       "      <td>408918.599076</td>\n",
       "    </tr>\n",
       "    <tr>\n",
       "      <th>3</th>\n",
       "      <td>1336775</td>\n",
       "      <td>108505.021407</td>\n",
       "    </tr>\n",
       "    <tr>\n",
       "      <th>4</th>\n",
       "      <td>1888274</td>\n",
       "      <td>272967.527172</td>\n",
       "    </tr>\n",
       "    <tr>\n",
       "      <th>5</th>\n",
       "      <td>1567679</td>\n",
       "      <td>279325.466476</td>\n",
       "    </tr>\n",
       "    <tr>\n",
       "      <th>6</th>\n",
       "      <td>1298770</td>\n",
       "      <td>345912.995101</td>\n",
       "    </tr>\n",
       "    <tr>\n",
       "      <th>7</th>\n",
       "      <td>1662892</td>\n",
       "      <td>35995.148985</td>\n",
       "    </tr>\n",
       "    <tr>\n",
       "      <th>8</th>\n",
       "      <td>1514321</td>\n",
       "      <td>175850.765904</td>\n",
       "    </tr>\n",
       "    <tr>\n",
       "      <th>9</th>\n",
       "      <td>1795371</td>\n",
       "      <td>216193.422451</td>\n",
       "    </tr>\n",
       "  </tbody>\n",
       "</table>\n",
       "</div>"
      ],
      "text/plain": [
       "   house_id          price\n",
       "0   1331375   84556.936085\n",
       "1   1630115  299433.045662\n",
       "2   1645745  408918.599076\n",
       "3   1336775  108505.021407\n",
       "4   1888274  272967.527172\n",
       "5   1567679  279325.466476\n",
       "6   1298770  345912.995101\n",
       "7   1662892   35995.148985\n",
       "8   1514321  175850.765904\n",
       "9   1795371  216193.422451"
      ]
     },
     "execution_count": 388,
     "metadata": {},
     "output_type": "execute_result"
    }
   ],
   "source": [
    "compare_result = pd.DataFrame({\n",
    "    'house_id': validation['house_id'],\n",
    "    'price': y_pred\n",
    "})\n",
    "compare_result.head(10)"
   ]
  }
 ],
 "metadata": {
  "editor": "DataCamp Workspace",
  "kernelspec": {
   "display_name": "Python 3",
   "language": "python",
   "name": "python3"
  },
  "language_info": {
   "codemirror_mode": {
    "name": "ipython",
    "version": 3
   },
   "file_extension": ".py",
   "mimetype": "text/x-python",
   "name": "python",
   "nbconvert_exporter": "python",
   "pygments_lexer": "ipython3",
   "version": "3.12.1"
  }
 },
 "nbformat": 4,
 "nbformat_minor": 5
}
